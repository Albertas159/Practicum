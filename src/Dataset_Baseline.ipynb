{
  "nbformat": 4,
  "nbformat_minor": 0,
  "metadata": {
    "colab": {
      "name": "Dataset Baseline.ipynb",
      "provenance": []
    },
    "kernelspec": {
      "name": "python3",
      "display_name": "Python 3"
    },
    "language_info": {
      "name": "python"
    }
  },
  "cells": [
    {
      "cell_type": "markdown",
      "source": [
        "## Setup"
      ],
      "metadata": {
        "id": "TmotBOfMRa48"
      }
    },
    {
      "cell_type": "code",
      "source": [
        "!pip install rouge/requirements.txt\n",
        "!pip install rouge-score"
      ],
      "metadata": {
        "colab": {
          "base_uri": "https://localhost:8080/"
        },
        "id": "vA7wxR-16Tf6",
        "outputId": "e1a4e214-6014-46e1-912f-33426930fc3b"
      },
      "execution_count": null,
      "outputs": [
        {
          "output_type": "stream",
          "name": "stdout",
          "text": [
            "\u001b[31mERROR: Invalid requirement: 'rouge/requirements.txt'\n",
            "Hint: It looks like a path. File 'rouge/requirements.txt' does not exist.\u001b[0m\n",
            "Looking in indexes: https://pypi.org/simple, https://us-python.pkg.dev/colab-wheels/public/simple/\n",
            "Collecting rouge-score\n",
            "  Downloading rouge_score-0.1.2.tar.gz (17 kB)\n",
            "Requirement already satisfied: absl-py in /usr/local/lib/python3.7/dist-packages (from rouge-score) (1.2.0)\n",
            "Requirement already satisfied: nltk in /usr/local/lib/python3.7/dist-packages (from rouge-score) (3.7)\n",
            "Requirement already satisfied: numpy in /usr/local/lib/python3.7/dist-packages (from rouge-score) (1.21.6)\n",
            "Requirement already satisfied: six>=1.14.0 in /usr/local/lib/python3.7/dist-packages (from rouge-score) (1.15.0)\n",
            "Requirement already satisfied: tqdm in /usr/local/lib/python3.7/dist-packages (from nltk->rouge-score) (4.64.0)\n",
            "Requirement already satisfied: click in /usr/local/lib/python3.7/dist-packages (from nltk->rouge-score) (7.1.2)\n",
            "Requirement already satisfied: regex>=2021.8.3 in /usr/local/lib/python3.7/dist-packages (from nltk->rouge-score) (2022.6.2)\n",
            "Requirement already satisfied: joblib in /usr/local/lib/python3.7/dist-packages (from nltk->rouge-score) (1.1.0)\n",
            "Building wheels for collected packages: rouge-score\n",
            "  Building wheel for rouge-score (setup.py) ... \u001b[?25l\u001b[?25hdone\n",
            "  Created wheel for rouge-score: filename=rouge_score-0.1.2-py3-none-any.whl size=24955 sha256=74b615797ee07ae337ae8986de9fedaab11a8c070623396e4da166def5729d24\n",
            "  Stored in directory: /root/.cache/pip/wheels/84/ac/6b/38096e3c5bf1dc87911e3585875e21a3ac610348e740409c76\n",
            "Successfully built rouge-score\n",
            "Installing collected packages: rouge-score\n",
            "Successfully installed rouge-score-0.1.2\n"
          ]
        }
      ]
    },
    {
      "cell_type": "code",
      "source": [
        "import random\n",
        "import re\n",
        "from rouge_score import rouge_scorer\n",
        "import pandas as pd"
      ],
      "metadata": {
        "id": "iJODGOgw6Hwo"
      },
      "execution_count": null,
      "outputs": []
    },
    {
      "cell_type": "code",
      "execution_count": null,
      "metadata": {
        "id": "OLICfMVw3bLo"
      },
      "outputs": [],
      "source": [
        "# remove extra chars\n",
        "\n",
        "def cleantext(text):\n",
        "  text = text.replace(\"\\n\",\" \")\n",
        "  text = text.split(\" \")\n",
        "  text = list(filter(lambda a: a != \"\", text))\n",
        "  return \" \".join(text)"
      ]
    },
    {
      "cell_type": "markdown",
      "source": [
        "## Baseline equations"
      ],
      "metadata": {
        "id": "v__sjIpXRf0n"
      }
    },
    {
      "cell_type": "code",
      "source": [
        "def first1k(text):\n",
        "  cleaned = cleantext(text)\n",
        "  summ = \"\"\n",
        "  summ_len = 0\n",
        "  for sent in re.split('\\.|\\?|\\!', cleaned):\n",
        "    summ_len+= len(sent.split(\" \"))\n",
        "    if(summ_len>1000):\n",
        "      break\n",
        "    else:\n",
        "      summ+= sent + \".\"\n",
        "  \n",
        "  return summ\n",
        "\n",
        "def random_sentences(text):\n",
        "  cleaned = cleantext(text)\n",
        "  sentences = re.split('\\.|\\?|\\!', cleaned)\n",
        "\n",
        "  summ_length = 0\n",
        "  bline = \"\"\n",
        "  random.shuffle(sentences)\n",
        "  for sent in sentences:\n",
        "    cleansent = sent.split(\" \")\n",
        "    cleansent = list(filter(lambda a: a != \"\", cleansent))\n",
        "    \n",
        "    sentlen = len(cleansent)\n",
        "    if(sentlen>5):\n",
        "      summ_length+=sentlen\n",
        "      if(summ_length>1000):\n",
        "        break\n",
        "      else:\n",
        "        bline += (sent + \".\")\n",
        "\n",
        "  return bline\n",
        "\n",
        "SUM_SENTENCES = 40\n",
        "\n",
        "def chapter_starts(text):\n",
        "  cleaned = cleantext(text)\n",
        "  chaps_rough = re.split('Chapter|CHAPTER|chapter', cleaned)\n",
        "  chaps = list(filter(lambda a: len(a)>2000, chaps_rough[1:]))\n",
        "  if(len(chaps)<2):\n",
        "    chaps=chaps_rough\n",
        "\n",
        "  numchaps = len(chaps)\n",
        "  numsentences = int(SUM_SENTENCES / numchaps) +1\n",
        "  if(numsentences == 1): numsentences+=1\n",
        "\n",
        "  bline =\"\"\n",
        "  for chap in chaps:\n",
        "    cur = re.split('\\.|\\?|\\!', chap)\n",
        "    bline+= \".\".join(cur[:numsentences])\n",
        "\n",
        "\n",
        "  return bline\n",
        "\n",
        "SUM_SENTENCES = 40\n",
        "\n",
        "def chapter_ends(text):\n",
        "  cleaned = cleantext(text)\n",
        "  chaps_rough = re.split('Chapter|CHAPTER|chapter', cleaned)\n",
        "  chaps = list(filter(lambda a: len(a)>2000, chaps_rough[1:]))\n",
        "  if(len(chaps)<2):\n",
        "    chaps=chaps_rough\n",
        "\n",
        "  numchaps = len(chaps)\n",
        "  numsentences = int(SUM_SENTENCES / numchaps)+1\n",
        "  if(numsentences == 1): numsentences+=1\n",
        "\n",
        "  bline =\"\"\n",
        "  for chap in chaps:\n",
        "    cur = re.split('\\.|\\?|\\!', chap)\n",
        "    bline+= \".\".join(cur[len(cur)-numsentences:])\n",
        "\n",
        "\n",
        "  return bline"
      ],
      "metadata": {
        "id": "hpXDoxIz37xx"
      },
      "execution_count": null,
      "outputs": []
    },
    {
      "cell_type": "markdown",
      "source": [
        "## Creating baseline on dataset"
      ],
      "metadata": {
        "id": "GhFQpVAtRxm_"
      }
    },
    {
      "cell_type": "code",
      "source": [
        "from google.colab import drive\n",
        "drive.mount('/content/drive')\n",
        "\n",
        "import os\n",
        "\n",
        "os.chdir(\"/content/drive/MyDrive/practicum/summerizer/\")\n",
        "!ls\n",
        "\n",
        "df = pd.read_csv('BookList_Long.csv', delimiter = \"~\").drop(columns = 'Unnamed: 0')"
      ],
      "metadata": {
        "colab": {
          "base_uri": "https://localhost:8080/"
        },
        "id": "ACpu6jdN4SrD",
        "outputId": "9db32359-6e5b-496e-dfc1-bbf54a561dab"
      },
      "execution_count": null,
      "outputs": [
        {
          "output_type": "stream",
          "name": "stdout",
          "text": [
            "Mounted at /content/drive\n",
            " BookList_Long_theo.csv  'Copy of summerizer .ipynb'   new_booklist.csv\n"
          ]
        }
      ]
    },
    {
      "cell_type": "code",
      "source": [
        "df[\"first1k_text\"] = df[\"full_text\"].map(first1k)\n",
        "df[\"random_text\"] = df[\"full_text\"].map(random_sentences)\n",
        "df[\"chapter_start_text\"] = df[\"full_text\"].map(chapter_starts)\n",
        "df[\"chapter_end_text\"] = df[\"full_text\"].map(chapter_ends)\n"
      ],
      "metadata": {
        "id": "_1CpVACr5pSY"
      },
      "execution_count": null,
      "outputs": []
    },
    {
      "cell_type": "code",
      "source": [
        "scorer = rouge_scorer.RougeScorer(['rouge1','rouge2','rougeL'], use_stemmer=True)"
      ],
      "metadata": {
        "id": "mUM-MxPb-uBc"
      },
      "execution_count": null,
      "outputs": []
    },
    {
      "cell_type": "code",
      "source": [
        "scorer.score(\"Harry goes to the sea and kills off a vendor\",\"Harry goes to the market and pays off a vendor.\")"
      ],
      "metadata": {
        "colab": {
          "base_uri": "https://localhost:8080/"
        },
        "id": "HtmxB826M5rF",
        "outputId": "486db10d-8104-4137-cdfe-0537ba1e7cb2"
      },
      "execution_count": null,
      "outputs": [
        {
          "output_type": "execute_result",
          "data": {
            "text/plain": [
              "{'rouge1': Score(precision=0.8, recall=0.8, fmeasure=0.8000000000000002),\n",
              " 'rouge2': Score(precision=0.5555555555555556, recall=0.5555555555555556, fmeasure=0.5555555555555556),\n",
              " 'rougeL': Score(precision=0.8, recall=0.8, fmeasure=0.8000000000000002)}"
            ]
          },
          "metadata": {},
          "execution_count": 6
        }
      ]
    },
    {
      "cell_type": "code",
      "source": [
        "scorer.score(\"Harry settles his debts at the bazaar with one of the vendors\", \"Harry goes to the market and pays off a vendor.\")\n",
        "\n"
      ],
      "metadata": {
        "colab": {
          "base_uri": "https://localhost:8080/"
        },
        "id": "vdu1PRqNNQN8",
        "outputId": "2d9228f7-9a1c-4df2-c3ed-64388ece5f52"
      },
      "execution_count": null,
      "outputs": [
        {
          "output_type": "execute_result",
          "data": {
            "text/plain": [
              "{'rouge1': Score(precision=0.3, recall=0.25, fmeasure=0.2727272727272727),\n",
              " 'rouge2': Score(precision=0.0, recall=0.0, fmeasure=0.0),\n",
              " 'rougeL': Score(precision=0.3, recall=0.25, fmeasure=0.2727272727272727)}"
            ]
          },
          "metadata": {},
          "execution_count": 7
        }
      ]
    },
    {
      "cell_type": "code",
      "source": [
        "df[\"first1k_rouge\"]= df.apply(lambda x: scorer.score(x['first1k_text'], x['summary']), axis=1)\n",
        "df[\"random_rouge\"]= df.apply(lambda x: scorer.score(x['random_text'], x['summary']), axis=1)\n",
        "df[\"chapter_start_rouge\"]= df.apply(lambda x: scorer.score(x['chapter_start_text'], x['summary']), axis=1)\n",
        "df[\"chapter_end_rouge\"]= df.apply(lambda x: scorer.score(x['chapter_end_text'], x['summary']), axis=1)\n"
      ],
      "metadata": {
        "id": "x_-pbCSw7dRI"
      },
      "execution_count": null,
      "outputs": []
    },
    {
      "cell_type": "code",
      "source": [
        "df[\"first1k_rouge\"]"
      ],
      "metadata": {
        "colab": {
          "base_uri": "https://localhost:8080/"
        },
        "id": "woW9roTaA2L4",
        "outputId": "347ca603-6a2d-41ce-bf91-d38e3f42dbcf"
      },
      "execution_count": null,
      "outputs": [
        {
          "output_type": "execute_result",
          "data": {
            "text/plain": [
              "0      {'rouge1': (0.3997194950911641, 0.287588294651...\n",
              "1      {'rouge1': (0.34526558891454967, 0.32429501084...\n",
              "2      {'rouge1': (0.39544235924932974, 0.30793319415...\n",
              "3      {'rouge1': (0.4316644113667118, 0.335084033613...\n",
              "4      {'rouge1': (0.48427672955974843, 0.24470338983...\n",
              "                             ...                        \n",
              "98     {'rouge1': (0.45075757575757575, 0.12306101344...\n",
              "99     {'rouge1': (0.5158371040723982, 0.119496855345...\n",
              "100    {'rouge1': (0.45286506469500926, 0.49949031600...\n",
              "101    {'rouge1': (0.4347202295552367, 0.310769230769...\n",
              "102    {'rouge1': (0.5416666666666666, 0.079268292682...\n",
              "Name: first1k_rouge, Length: 103, dtype: object"
            ]
          },
          "metadata": {},
          "execution_count": 31
        }
      ]
    },
    {
      "cell_type": "markdown",
      "source": [
        "## Evaluating baselines"
      ],
      "metadata": {
        "id": "7PvLkvNJSE02"
      }
    },
    {
      "cell_type": "code",
      "source": [
        "def unpack_rouge(column_name):\n",
        "  df[column_name+\"1\"] = df[column_name].map(lambda x: x[\"rouge1\"].fmeasure) \n",
        "  df[column_name+\"2\"] = df[column_name].map(lambda x: x[\"rouge2\"].fmeasure) \n",
        "  df[column_name+\"L\"] = df[column_name].map(lambda x: x[\"rougeL\"].fmeasure) "
      ],
      "metadata": {
        "id": "3UoXLXrAAI7c"
      },
      "execution_count": null,
      "outputs": []
    },
    {
      "cell_type": "code",
      "source": [
        "unpack_rouge(\"first1k_rouge\")\n",
        "unpack_rouge(\"random_rouge\")\n",
        "unpack_rouge(\"chapter_start_rouge\")\n",
        "unpack_rouge(\"chapter_end_rouge\")"
      ],
      "metadata": {
        "id": "6EUkw_hBAng4"
      },
      "execution_count": null,
      "outputs": []
    },
    {
      "cell_type": "code",
      "source": [
        "df.describe()"
      ],
      "metadata": {
        "colab": {
          "base_uri": "https://localhost:8080/",
          "height": 364
        },
        "id": "olO-lCw38Rmx",
        "outputId": "4247beeb-4efc-410a-ff68-8a02e1f3b0fb"
      },
      "execution_count": null,
      "outputs": [
        {
          "output_type": "execute_result",
          "data": {
            "text/plain": [
              "       first1k_rouge1  first1k_rouge2  first1k_rougeL  random_rouge1  \\\n",
              "count      103.000000      103.000000      103.000000     103.000000   \n",
              "mean         0.334926        0.053696        0.133023       0.351426   \n",
              "std          0.078399        0.021172        0.022940       0.086045   \n",
              "min          0.116775        0.011142        0.067797       0.095735   \n",
              "25%          0.298405        0.040102        0.123259       0.312221   \n",
              "50%          0.352211        0.050756        0.134977       0.378811   \n",
              "75%          0.389663        0.064987        0.144433       0.414944   \n",
              "max          0.475036        0.142500        0.224719       0.508524   \n",
              "\n",
              "       random_rouge2  random_rougeL  chapter_start_rouge1  \\\n",
              "count     103.000000     103.000000            103.000000   \n",
              "mean        0.052238       0.130084              0.316701   \n",
              "std         0.023539       0.021500              0.083853   \n",
              "min         0.012467       0.057441              0.127702   \n",
              "25%         0.038341       0.123450              0.261290   \n",
              "50%         0.050975       0.134857              0.326250   \n",
              "75%         0.062717       0.142420              0.378717   \n",
              "max         0.183477       0.185095              0.497772   \n",
              "\n",
              "       chapter_start_rouge2  chapter_start_rougeL  chapter_end_rouge1  \\\n",
              "count            103.000000            103.000000          103.000000   \n",
              "mean               0.055235              0.131633            0.334143   \n",
              "std                0.022846              0.024497            0.080700   \n",
              "min                0.014423              0.076420            0.130283   \n",
              "25%                0.039110              0.121184            0.291427   \n",
              "50%                0.049955              0.133750            0.347211   \n",
              "75%                0.068463              0.144071            0.382908   \n",
              "max                0.128262              0.235294            0.649190   \n",
              "\n",
              "       chapter_end_rouge2  chapter_end_rougeL  \n",
              "count          103.000000          103.000000  \n",
              "mean             0.056781            0.136601  \n",
              "std              0.041578            0.039740  \n",
              "min              0.006944            0.074293  \n",
              "25%              0.039326            0.120711  \n",
              "50%              0.052928            0.136341  \n",
              "75%              0.063890            0.149225  \n",
              "max              0.421756            0.455672  "
            ],
            "text/html": [
              "\n",
              "  <div id=\"df-790c7e71-e0d8-4121-a3c0-f7ad7693bc8d\">\n",
              "    <div class=\"colab-df-container\">\n",
              "      <div>\n",
              "<style scoped>\n",
              "    .dataframe tbody tr th:only-of-type {\n",
              "        vertical-align: middle;\n",
              "    }\n",
              "\n",
              "    .dataframe tbody tr th {\n",
              "        vertical-align: top;\n",
              "    }\n",
              "\n",
              "    .dataframe thead th {\n",
              "        text-align: right;\n",
              "    }\n",
              "</style>\n",
              "<table border=\"1\" class=\"dataframe\">\n",
              "  <thead>\n",
              "    <tr style=\"text-align: right;\">\n",
              "      <th></th>\n",
              "      <th>first1k_rouge1</th>\n",
              "      <th>first1k_rouge2</th>\n",
              "      <th>first1k_rougeL</th>\n",
              "      <th>random_rouge1</th>\n",
              "      <th>random_rouge2</th>\n",
              "      <th>random_rougeL</th>\n",
              "      <th>chapter_start_rouge1</th>\n",
              "      <th>chapter_start_rouge2</th>\n",
              "      <th>chapter_start_rougeL</th>\n",
              "      <th>chapter_end_rouge1</th>\n",
              "      <th>chapter_end_rouge2</th>\n",
              "      <th>chapter_end_rougeL</th>\n",
              "    </tr>\n",
              "  </thead>\n",
              "  <tbody>\n",
              "    <tr>\n",
              "      <th>count</th>\n",
              "      <td>103.000000</td>\n",
              "      <td>103.000000</td>\n",
              "      <td>103.000000</td>\n",
              "      <td>103.000000</td>\n",
              "      <td>103.000000</td>\n",
              "      <td>103.000000</td>\n",
              "      <td>103.000000</td>\n",
              "      <td>103.000000</td>\n",
              "      <td>103.000000</td>\n",
              "      <td>103.000000</td>\n",
              "      <td>103.000000</td>\n",
              "      <td>103.000000</td>\n",
              "    </tr>\n",
              "    <tr>\n",
              "      <th>mean</th>\n",
              "      <td>0.334926</td>\n",
              "      <td>0.053696</td>\n",
              "      <td>0.133023</td>\n",
              "      <td>0.351426</td>\n",
              "      <td>0.052238</td>\n",
              "      <td>0.130084</td>\n",
              "      <td>0.316701</td>\n",
              "      <td>0.055235</td>\n",
              "      <td>0.131633</td>\n",
              "      <td>0.334143</td>\n",
              "      <td>0.056781</td>\n",
              "      <td>0.136601</td>\n",
              "    </tr>\n",
              "    <tr>\n",
              "      <th>std</th>\n",
              "      <td>0.078399</td>\n",
              "      <td>0.021172</td>\n",
              "      <td>0.022940</td>\n",
              "      <td>0.086045</td>\n",
              "      <td>0.023539</td>\n",
              "      <td>0.021500</td>\n",
              "      <td>0.083853</td>\n",
              "      <td>0.022846</td>\n",
              "      <td>0.024497</td>\n",
              "      <td>0.080700</td>\n",
              "      <td>0.041578</td>\n",
              "      <td>0.039740</td>\n",
              "    </tr>\n",
              "    <tr>\n",
              "      <th>min</th>\n",
              "      <td>0.116775</td>\n",
              "      <td>0.011142</td>\n",
              "      <td>0.067797</td>\n",
              "      <td>0.095735</td>\n",
              "      <td>0.012467</td>\n",
              "      <td>0.057441</td>\n",
              "      <td>0.127702</td>\n",
              "      <td>0.014423</td>\n",
              "      <td>0.076420</td>\n",
              "      <td>0.130283</td>\n",
              "      <td>0.006944</td>\n",
              "      <td>0.074293</td>\n",
              "    </tr>\n",
              "    <tr>\n",
              "      <th>25%</th>\n",
              "      <td>0.298405</td>\n",
              "      <td>0.040102</td>\n",
              "      <td>0.123259</td>\n",
              "      <td>0.312221</td>\n",
              "      <td>0.038341</td>\n",
              "      <td>0.123450</td>\n",
              "      <td>0.261290</td>\n",
              "      <td>0.039110</td>\n",
              "      <td>0.121184</td>\n",
              "      <td>0.291427</td>\n",
              "      <td>0.039326</td>\n",
              "      <td>0.120711</td>\n",
              "    </tr>\n",
              "    <tr>\n",
              "      <th>50%</th>\n",
              "      <td>0.352211</td>\n",
              "      <td>0.050756</td>\n",
              "      <td>0.134977</td>\n",
              "      <td>0.378811</td>\n",
              "      <td>0.050975</td>\n",
              "      <td>0.134857</td>\n",
              "      <td>0.326250</td>\n",
              "      <td>0.049955</td>\n",
              "      <td>0.133750</td>\n",
              "      <td>0.347211</td>\n",
              "      <td>0.052928</td>\n",
              "      <td>0.136341</td>\n",
              "    </tr>\n",
              "    <tr>\n",
              "      <th>75%</th>\n",
              "      <td>0.389663</td>\n",
              "      <td>0.064987</td>\n",
              "      <td>0.144433</td>\n",
              "      <td>0.414944</td>\n",
              "      <td>0.062717</td>\n",
              "      <td>0.142420</td>\n",
              "      <td>0.378717</td>\n",
              "      <td>0.068463</td>\n",
              "      <td>0.144071</td>\n",
              "      <td>0.382908</td>\n",
              "      <td>0.063890</td>\n",
              "      <td>0.149225</td>\n",
              "    </tr>\n",
              "    <tr>\n",
              "      <th>max</th>\n",
              "      <td>0.475036</td>\n",
              "      <td>0.142500</td>\n",
              "      <td>0.224719</td>\n",
              "      <td>0.508524</td>\n",
              "      <td>0.183477</td>\n",
              "      <td>0.185095</td>\n",
              "      <td>0.497772</td>\n",
              "      <td>0.128262</td>\n",
              "      <td>0.235294</td>\n",
              "      <td>0.649190</td>\n",
              "      <td>0.421756</td>\n",
              "      <td>0.455672</td>\n",
              "    </tr>\n",
              "  </tbody>\n",
              "</table>\n",
              "</div>\n",
              "      <button class=\"colab-df-convert\" onclick=\"convertToInteractive('df-790c7e71-e0d8-4121-a3c0-f7ad7693bc8d')\"\n",
              "              title=\"Convert this dataframe to an interactive table.\"\n",
              "              style=\"display:none;\">\n",
              "        \n",
              "  <svg xmlns=\"http://www.w3.org/2000/svg\" height=\"24px\"viewBox=\"0 0 24 24\"\n",
              "       width=\"24px\">\n",
              "    <path d=\"M0 0h24v24H0V0z\" fill=\"none\"/>\n",
              "    <path d=\"M18.56 5.44l.94 2.06.94-2.06 2.06-.94-2.06-.94-.94-2.06-.94 2.06-2.06.94zm-11 1L8.5 8.5l.94-2.06 2.06-.94-2.06-.94L8.5 2.5l-.94 2.06-2.06.94zm10 10l.94 2.06.94-2.06 2.06-.94-2.06-.94-.94-2.06-.94 2.06-2.06.94z\"/><path d=\"M17.41 7.96l-1.37-1.37c-.4-.4-.92-.59-1.43-.59-.52 0-1.04.2-1.43.59L10.3 9.45l-7.72 7.72c-.78.78-.78 2.05 0 2.83L4 21.41c.39.39.9.59 1.41.59.51 0 1.02-.2 1.41-.59l7.78-7.78 2.81-2.81c.8-.78.8-2.07 0-2.86zM5.41 20L4 18.59l7.72-7.72 1.47 1.35L5.41 20z\"/>\n",
              "  </svg>\n",
              "      </button>\n",
              "      \n",
              "  <style>\n",
              "    .colab-df-container {\n",
              "      display:flex;\n",
              "      flex-wrap:wrap;\n",
              "      gap: 12px;\n",
              "    }\n",
              "\n",
              "    .colab-df-convert {\n",
              "      background-color: #E8F0FE;\n",
              "      border: none;\n",
              "      border-radius: 50%;\n",
              "      cursor: pointer;\n",
              "      display: none;\n",
              "      fill: #1967D2;\n",
              "      height: 32px;\n",
              "      padding: 0 0 0 0;\n",
              "      width: 32px;\n",
              "    }\n",
              "\n",
              "    .colab-df-convert:hover {\n",
              "      background-color: #E2EBFA;\n",
              "      box-shadow: 0px 1px 2px rgba(60, 64, 67, 0.3), 0px 1px 3px 1px rgba(60, 64, 67, 0.15);\n",
              "      fill: #174EA6;\n",
              "    }\n",
              "\n",
              "    [theme=dark] .colab-df-convert {\n",
              "      background-color: #3B4455;\n",
              "      fill: #D2E3FC;\n",
              "    }\n",
              "\n",
              "    [theme=dark] .colab-df-convert:hover {\n",
              "      background-color: #434B5C;\n",
              "      box-shadow: 0px 1px 3px 1px rgba(0, 0, 0, 0.15);\n",
              "      filter: drop-shadow(0px 1px 2px rgba(0, 0, 0, 0.3));\n",
              "      fill: #FFFFFF;\n",
              "    }\n",
              "  </style>\n",
              "\n",
              "      <script>\n",
              "        const buttonEl =\n",
              "          document.querySelector('#df-790c7e71-e0d8-4121-a3c0-f7ad7693bc8d button.colab-df-convert');\n",
              "        buttonEl.style.display =\n",
              "          google.colab.kernel.accessAllowed ? 'block' : 'none';\n",
              "\n",
              "        async function convertToInteractive(key) {\n",
              "          const element = document.querySelector('#df-790c7e71-e0d8-4121-a3c0-f7ad7693bc8d');\n",
              "          const dataTable =\n",
              "            await google.colab.kernel.invokeFunction('convertToInteractive',\n",
              "                                                     [key], {});\n",
              "          if (!dataTable) return;\n",
              "\n",
              "          const docLinkHtml = 'Like what you see? Visit the ' +\n",
              "            '<a target=\"_blank\" href=https://colab.research.google.com/notebooks/data_table.ipynb>data table notebook</a>'\n",
              "            + ' to learn more about interactive tables.';\n",
              "          element.innerHTML = '';\n",
              "          dataTable['output_type'] = 'display_data';\n",
              "          await google.colab.output.renderOutput(dataTable, element);\n",
              "          const docLink = document.createElement('div');\n",
              "          docLink.innerHTML = docLinkHtml;\n",
              "          element.appendChild(docLink);\n",
              "        }\n",
              "      </script>\n",
              "    </div>\n",
              "  </div>\n",
              "  "
            ]
          },
          "metadata": {},
          "execution_count": 7
        }
      ]
    },
    {
      "cell_type": "code",
      "source": [
        "df.drop([\"first1k_rouge\", \"random_rouge\",\"chapter_start_rouge\",\"chapter_end_rouge\"], axis=1, inplace = True)"
      ],
      "metadata": {
        "id": "ZjBn0RRMQS3E"
      },
      "execution_count": null,
      "outputs": []
    },
    {
      "cell_type": "code",
      "source": [
        ""
      ],
      "metadata": {
        "id": "cya0BZcqSN9f"
      },
      "execution_count": null,
      "outputs": []
    },
    {
      "cell_type": "markdown",
      "source": [
        "## Saving"
      ],
      "metadata": {
        "id": "hE5lP26LSOkM"
      }
    },
    {
      "cell_type": "code",
      "source": [
        "df.to_csv('new_booklist.csv', sep ='~') \n",
        "\n",
        "!cp new_booklist.csv \"/content/drive/MyDrive/practicum/summerizer\""
      ],
      "metadata": {
        "id": "i9_HRcSPQv0-"
      },
      "execution_count": null,
      "outputs": []
    }
  ]
}